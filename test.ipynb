{
 "cells": [
  {
   "cell_type": "markdown",
   "metadata": {},
   "source": [
    "youtube-HL data"
   ]
  },
  {
   "cell_type": "code",
   "execution_count": 1,
   "metadata": {},
   "outputs": [
    {
     "name": "stdout",
     "output_type": "stream",
     "text": [
      "Keys in text .npz file: ['last_hidden_state']\n",
      "Keys in vid .npz file: ['features']\n",
      "Keys in v_slowfast .npz file: ['features']\n"
     ]
    }
   ],
   "source": [
    "import numpy as np\n",
    "\n",
    "# Load a file (example: text features)\n",
    "data_text = np.load(\n",
    "    \"/media/xiang/Slayer/flashVTG/data/youtube/youtube_uni/txt_clip/_45vTFtcduE.npz\"\n",
    ")\n",
    "data_v = np.load(\n",
    "    \"/media/xiang/Slayer/flashVTG/data/youtube/youtube_uni/vid_clip/_45vTFtcduE.npz\"\n",
    ")\n",
    "data_v_slowfast = np.load(\n",
    "    \"/media/xiang/Slayer/flashVTG/data/youtube/youtube_uni/vid_slowfast/_45vTFtcduE.npz\"\n",
    ")\n",
    "\n",
    "# List all arrays in the file\n",
    "print(\"Keys in text .npz file:\", data_text.files)  # \"last_hidden_state\"\n",
    "print(\"Keys in vid .npz file:\", data_v.files)  # \"last_hidden_state\"\n",
    "print(\"Keys in v_slowfast .npz file:\", data_v.files)  # \"last_hidden_state\"\n"
   ]
  },
  {
   "cell_type": "code",
   "execution_count": 5,
   "metadata": {},
   "outputs": [
    {
     "name": "stdout",
     "output_type": "stream",
     "text": [
      "Shape of text features: (3, 512)\n",
      "Shape of video features: (41, 512)\n",
      "Shape of slowfast features: (41, 2304)\n"
     ]
    }
   ],
   "source": [
    "text_features = data_text['last_hidden_state']\n",
    "print(\"Shape of text features:\", text_features.shape)\n",
    "\n",
    "v_features = data_v['features']\n",
    "print(\"Shape of video features:\", v_features.shape)\n",
    "\n",
    "slowfast_features = data_v_slowfast['features']\n",
    "print(\"Shape of slowfast features:\", slowfast_features.shape)"
   ]
  },
  {
   "cell_type": "code",
   "execution_count": 6,
   "metadata": {},
   "outputs": [
    {
     "data": {
      "text/plain": [
       "array([[ 0.339  ,  0.11676,  0.102  , ...,  0.247  ,  0.591  ,  0.1013 ],\n",
       "       [ 1.967  , -0.9907 , -1.397  , ...,  0.485  ,  0.9263 , -0.0491 ],\n",
       "       [ 1.286  , -0.4922 , -0.4504 , ...,  1.176  ,  0.956  , -0.7935 ]],\n",
       "      dtype=float16)"
      ]
     },
     "execution_count": 6,
     "metadata": {},
     "output_type": "execute_result"
    }
   ],
   "source": [
    "text_features"
   ]
  },
  {
   "cell_type": "code",
   "execution_count": 2,
   "metadata": {},
   "outputs": [
    {
     "name": "stdout",
     "output_type": "stream",
     "text": [
      "Keys in text .npz file: ['last_hidden_state']\n",
      "Keys in vid .npz file: ['features']\n",
      "Keys in v_slowfast .npz file: ['features']\n"
     ]
    }
   ],
   "source": [
    "sample_id = '1n7Afe5AZCM'\n",
    "# Load a file (example: text features)\n",
    "data_text = np.load(\n",
    "    f\"/media/xiang/Slayer/flashVTG/data/youtube/youtube_uni/txt_clip/{sample_id}.npz\"\n",
    ")\n",
    "data_v = np.load(\n",
    "    f\"/media/xiang/Slayer/flashVTG/data/youtube/youtube_uni/vid_clip/{sample_id}.npz\"\n",
    ")\n",
    "data_v_slowfast = np.load(\n",
    "    f\"/media/xiang/Slayer/flashVTG/data/youtube/youtube_uni/vid_slowfast/{sample_id}.npz\"\n",
    ")\n",
    "\n",
    "# List all arrays in the file\n",
    "print(\"Keys in text .npz file:\", data_text.files)  # \"last_hidden_state\"\n",
    "print(\"Keys in vid .npz file:\", data_v.files)  # \"last_hidden_state\"\n",
    "print(\"Keys in v_slowfast .npz file:\", data_v.files)  # \"last_hidden_state\""
   ]
  },
  {
   "cell_type": "code",
   "execution_count": 3,
   "metadata": {},
   "outputs": [
    {
     "name": "stdout",
     "output_type": "stream",
     "text": [
      "Shape of text features: (4, 512)\n",
      "Shape of video features: (61, 512)\n",
      "Shape of slowfast features: (61, 2304)\n"
     ]
    }
   ],
   "source": [
    "text_features = data_text['last_hidden_state']\n",
    "print(\"Shape of text features:\", text_features.shape)\n",
    "\n",
    "v_features = data_v['features']\n",
    "print(\"Shape of video features:\", v_features.shape)\n",
    "\n",
    "slowfast_features = data_v_slowfast['features']\n",
    "print(\"Shape of slowfast features:\", slowfast_features.shape)"
   ]
  },
  {
   "cell_type": "markdown",
   "metadata": {},
   "source": [
    "QVHighlights data"
   ]
  },
  {
   "cell_type": "code",
   "execution_count": 3,
   "metadata": {},
   "outputs": [
    {
     "name": "stdout",
     "output_type": "stream",
     "text": [
      "Keys in text .npz file: ['last_hidden_state', 'pooler_output']\n",
      "Keys in vid .npz file: ['features']\n",
      "Keys in v_slowfast .npz file: ['features']\n"
     ]
    }
   ],
   "source": [
    "import numpy as np\n",
    "\n",
    "# Load a file (example: text features)\n",
    "data_text = np.load(\n",
    "    \"/media/xiang/Slayer/flashVTG/data/highlight/qvhighlight/clip_text_features/qid9769.npz\"\n",
    ")\n",
    "data_v = np.load(\n",
    "    \"/media/xiang/Slayer/flashVTG/data/highlight/qvhighlight/clip_features/j7rJstUseKg_360.0_510.0.npz\"\n",
    ")\n",
    "data_v_slowfast = np.load(\n",
    "    \"/media/xiang/Slayer/flashVTG/data/highlight/qvhighlight/slowfast_features/j7rJstUseKg_360.0_510.0.npz\"\n",
    ")\n",
    "\n",
    "# List all arrays in the file\n",
    "print(\"Keys in text .npz file:\", data_text.files)  # \"last_hidden_state\"\n",
    "print(\"Keys in vid .npz file:\", data_v.files)  # \"last_hidden_state\"\n",
    "print(\"Keys in v_slowfast .npz file:\", data_v.files)  # \"last_hidden_state\""
   ]
  },
  {
   "cell_type": "code",
   "execution_count": 4,
   "metadata": {},
   "outputs": [
    {
     "name": "stdout",
     "output_type": "stream",
     "text": [
      "Shape of text features: (14, 512)\n",
      "Shape of video features: (75, 512)\n",
      "Shape of slowfast features: (76, 2304)\n"
     ]
    }
   ],
   "source": [
    "text_features = data_text['last_hidden_state']\n",
    "print(\"Shape of text features:\", text_features.shape)\n",
    "\n",
    "v_features = data_v['features']\n",
    "print(\"Shape of video features:\", v_features.shape)\n",
    "\n",
    "slowfast_features = data_v_slowfast['features']\n",
    "print(\"Shape of slowfast features:\", slowfast_features.shape)"
   ]
  },
  {
   "cell_type": "code",
   "execution_count": null,
   "metadata": {},
   "outputs": [],
   "source": []
  }
 ],
 "metadata": {
  "kernelspec": {
   "display_name": "flashVTG",
   "language": "python",
   "name": "python3"
  },
  "language_info": {
   "codemirror_mode": {
    "name": "ipython",
    "version": 3
   },
   "file_extension": ".py",
   "mimetype": "text/x-python",
   "name": "python",
   "nbconvert_exporter": "python",
   "pygments_lexer": "ipython3",
   "version": "3.11.4"
  }
 },
 "nbformat": 4,
 "nbformat_minor": 2
}
